{
 "cells": [
  {
   "cell_type": "code",
   "execution_count": 4,
   "metadata": {},
   "outputs": [],
   "source": [
    "import pandas as pd\n",
    "import numpy as np\n",
    "import feather"
   ]
  },
  {
   "cell_type": "code",
   "execution_count": 11,
   "metadata": {},
   "outputs": [],
   "source": [
    "fl_voters = feather.read_dataframe(\"FL_voters_for_nlp.feather\")"
   ]
  },
  {
   "cell_type": "code",
   "execution_count": 18,
   "metadata": {},
   "outputs": [
    {
     "data": {
      "text/plain": [
       "county_code           0\n",
       "voter_id              0\n",
       "surname               7\n",
       "suffix_name           0\n",
       "first_name           12\n",
       "middle_name          19\n",
       "records_exemption     0\n",
       "zip                   0\n",
       "sex                   0\n",
       "race                  0\n",
       "birth_date            0\n",
       "party                 0\n",
       "dtype: int64"
      ]
     },
     "execution_count": 18,
     "metadata": {},
     "output_type": "execute_result"
    }
   ],
   "source": [
    "# Still some NaN names. \n",
    "fl_voters.isnull().sum()"
   ]
  },
  {
   "cell_type": "code",
   "execution_count": 20,
   "metadata": {},
   "outputs": [],
   "source": [
    "# Looks like people writing in wrong fields\n",
    "problems = fl_voters[fl_voters.isnull().any(axis=1)]"
   ]
  },
  {
   "cell_type": "code",
   "execution_count": 21,
   "metadata": {},
   "outputs": [],
   "source": [
    "# So safe to model with them as blanks\n",
    "fl_voters = fl_voters.replace(pd.np.nan, '', regex=True)"
   ]
  },
  {
   "cell_type": "code",
   "execution_count": 24,
   "metadata": {},
   "outputs": [
    {
     "data": {
      "text/plain": [
       "county_code          object\n",
       "voter_id              int32\n",
       "surname              object\n",
       "suffix_name          object\n",
       "first_name           object\n",
       "middle_name          object\n",
       "records_exemption    object\n",
       "zip                  object\n",
       "sex                  object\n",
       "race                  int32\n",
       "birth_date           object\n",
       "party                object\n",
       "dtype: object"
      ]
     },
     "execution_count": 24,
     "metadata": {},
     "output_type": "execute_result"
    }
   ],
   "source": [
    "fl_voters[['first_name', 'middle_name', 'surname',\n",
    "           \"suffix_name\"]] = fl_voters[['first_name', 'middle_name', 'surname', \"suffix_name\"]].astype(str)\n",
    "\n",
    "fl_voters.dtypes"
   ]
  },
  {
   "cell_type": "code",
   "execution_count": 31,
   "metadata": {},
   "outputs": [],
   "source": [
    "fl_voters[\"full_name\"] = fl_voters[\"first_name\"].astype(str) + \" \" +  fl_voters[\"middle_name\"].astype(str) + \" \" + \\\n",
    "fl_voters[\"surname\"].astype(str) + \" \" + fl_voters[\"suffix_name\"].astype(str)"
   ]
  },
  {
   "cell_type": "code",
   "execution_count": 32,
   "metadata": {},
   "outputs": [
    {
     "data": {
      "text/plain": [
       "0           Janice DeTray Baur \n",
       "1         Minnie Sikes Beckham \n",
       "2    Robert Christopher Belden \n",
       "3       Mary Elizabeth Bennett \n",
       "4              Dixie Ann Biggs \n",
       "Name: full_name, dtype: object"
      ]
     },
     "execution_count": 32,
     "metadata": {},
     "output_type": "execute_result"
    }
   ],
   "source": [
    "fl_voters[\"full_name\"].head()"
   ]
  },
  {
   "cell_type": "code",
   "execution_count": null,
   "metadata": {},
   "outputs": [],
   "source": []
  }
 ],
 "metadata": {
  "kernelspec": {
   "display_name": "Python 3",
   "language": "python",
   "name": "python3"
  },
  "language_info": {
   "codemirror_mode": {
    "name": "ipython",
    "version": 3
   },
   "file_extension": ".py",
   "mimetype": "text/x-python",
   "name": "python",
   "nbconvert_exporter": "python",
   "pygments_lexer": "ipython3",
   "version": "3.7.4"
  }
 },
 "nbformat": 4,
 "nbformat_minor": 4
}
